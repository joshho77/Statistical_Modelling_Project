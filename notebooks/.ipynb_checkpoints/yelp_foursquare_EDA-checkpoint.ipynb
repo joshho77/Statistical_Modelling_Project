{
 "cells": [
  {
   "cell_type": "code",
   "execution_count": 290,
   "metadata": {},
   "outputs": [],
   "source": [
    "# Import modules\n",
    "import os\n",
    "import pandas as pd\n",
    "import json\n",
    "import requests\n",
    "from IPython.display import JSON"
   ]
  },
  {
   "cell_type": "markdown",
   "metadata": {},
   "source": [
    "# Foursquare"
   ]
  },
  {
   "cell_type": "markdown",
   "metadata": {},
   "source": [
    "Send a request to Foursquare for all the bike stations in your city of choice within a 1000m radius."
   ]
  },
  {
   "cell_type": "code",
   "execution_count": 239,
   "metadata": {},
   "outputs": [],
   "source": [
    "# Load required coordinates\n",
    "csv = pd.read_csv('sobi_bikes', sep= ',')\n",
    "cords = csv['coordinates'].values.tolist()"
   ]
  },
  {
   "cell_type": "code",
   "execution_count": 240,
   "metadata": {
    "tags": []
   },
   "outputs": [
    {
     "data": {
      "text/plain": [
       "143"
      ]
     },
     "execution_count": 240,
     "metadata": {},
     "output_type": "execute_result"
    }
   ],
   "source": [
    "# Create function to input bike station coordinates into Yelp's URL syntax, appending all results to a list for future loop iteration\n",
    "urls = []\n",
    "\n",
    "def json_load(list):    \n",
    "    idx = 0\n",
    "    for val in list:\n",
    "        ll = list[idx]\n",
    "        url = \"https://api.foursquare.com/v3/places/search?ll=\" + ll + \"&radius=1000&categories=13065&fields=name%2Crating%2Ccategories%2Clocation&limit=50\"\n",
    "        urls.append(url)\n",
    "        idx += 1\n",
    "        \n",
    "json_load(cords)\n",
    "\n",
    "# Verify function output\n",
    "len(urls)"
   ]
  },
  {
   "cell_type": "code",
   "execution_count": 241,
   "metadata": {},
   "outputs": [],
   "source": [
    "# Create empty DataFrame to store JSON response results\n",
    "fsq_df = pd.DataFrame()\n",
    "\n",
    "# Create a function to request and load JSON responses from list of URLs, then normalize response and add entry to DataFrame\n",
    "def get_food(url):\n",
    "    fsq_key = os.environ['FSQ_API']\n",
    "    url = url\n",
    "    headers = {\"accept\": \"application/json\", \"Authorization\": fsq_key}\n",
    "    response = requests.get(url, headers=headers)\n",
    "\n",
    "    poi_json = json.loads(response.text)\n",
    "    add_df = pd.json_normalize(poi_json['results'])\n",
    "\n",
    "    global fsq_df\n",
    "    fsq_df = pd.concat([fsq_df, add_df], ignore_index=True)\n",
    "    return "
   ]
  },
  {
   "cell_type": "markdown",
   "metadata": {},
   "source": [
    "Parse through the response to get the POI (such as restaurants, bars, etc) details you want (ratings, name, location, etc)"
   ]
  },
  {
   "cell_type": "code",
   "execution_count": 242,
   "metadata": {},
   "outputs": [
    {
     "data": {
      "text/plain": [
       "(5616, 13)"
      ]
     },
     "execution_count": 242,
     "metadata": {},
     "output_type": "execute_result"
    }
   ],
   "source": [
    "# Use loop to iterate through list of URLs, then input the indexed URL into the function above\n",
    "for val in urls:\n",
    "    url = val\n",
    "    get_food(url)\n",
    "\n",
    "# Verify function output\n",
    "fsq_df.shape"
   ]
  },
  {
   "cell_type": "markdown",
   "metadata": {},
   "source": [
    "Put your parsed results into a DataFrame"
   ]
  },
  {
   "cell_type": "code",
   "execution_count": 243,
   "metadata": {},
   "outputs": [
    {
     "name": "stdout",
     "output_type": "stream",
     "text": [
      "(5616, 4)\n"
     ]
    },
    {
     "data": {
      "text/html": [
       "<div>\n",
       "<style scoped>\n",
       "    .dataframe tbody tr th:only-of-type {\n",
       "        vertical-align: middle;\n",
       "    }\n",
       "\n",
       "    .dataframe tbody tr th {\n",
       "        vertical-align: top;\n",
       "    }\n",
       "\n",
       "    .dataframe thead th {\n",
       "        text-align: right;\n",
       "    }\n",
       "</style>\n",
       "<table border=\"1\" class=\"dataframe\">\n",
       "  <thead>\n",
       "    <tr style=\"text-align: right;\">\n",
       "      <th></th>\n",
       "      <th>address</th>\n",
       "      <th>name</th>\n",
       "      <th>rating</th>\n",
       "      <th>categories</th>\n",
       "    </tr>\n",
       "  </thead>\n",
       "  <tbody>\n",
       "    <tr>\n",
       "      <th>0</th>\n",
       "      <td>4 Queen St S</td>\n",
       "      <td>Scottish Rite</td>\n",
       "      <td>7.9</td>\n",
       "      <td>[{'id': 10032, 'name': 'Night Club', 'icon': {...</td>\n",
       "    </tr>\n",
       "    <tr>\n",
       "      <th>1</th>\n",
       "      <td>24 Hess St S</td>\n",
       "      <td>Gown &amp; Gavel</td>\n",
       "      <td>7.5</td>\n",
       "      <td>[{'id': 13003, 'name': 'Bar', 'icon': {'prefix...</td>\n",
       "    </tr>\n",
       "    <tr>\n",
       "      <th>2</th>\n",
       "      <td>112 George St</td>\n",
       "      <td>Smoke's Poutinerie</td>\n",
       "      <td>7.5</td>\n",
       "      <td>[{'id': 13145, 'name': 'Fast Food Restaurant',...</td>\n",
       "    </tr>\n",
       "    <tr>\n",
       "      <th>3</th>\n",
       "      <td>41 King William St</td>\n",
       "      <td>The Mule</td>\n",
       "      <td>8.7</td>\n",
       "      <td>[{'id': 13306, 'name': 'Taco Restaurant', 'ico...</td>\n",
       "    </tr>\n",
       "    <tr>\n",
       "      <th>4</th>\n",
       "      <td>193 James St N</td>\n",
       "      <td>Mulberry Street Coffeehouse</td>\n",
       "      <td>8.5</td>\n",
       "      <td>[{'id': 13034, 'name': 'Café', 'icon': {'prefi...</td>\n",
       "    </tr>\n",
       "  </tbody>\n",
       "</table>\n",
       "</div>"
      ],
      "text/plain": [
       "              address                         name  rating  \\\n",
       "0        4 Queen St S                Scottish Rite     7.9   \n",
       "1        24 Hess St S                 Gown & Gavel     7.5   \n",
       "2       112 George St           Smoke's Poutinerie     7.5   \n",
       "3  41 King William St                     The Mule     8.7   \n",
       "4      193 James St N  Mulberry Street Coffeehouse     8.5   \n",
       "\n",
       "                                          categories  \n",
       "0  [{'id': 10032, 'name': 'Night Club', 'icon': {...  \n",
       "1  [{'id': 13003, 'name': 'Bar', 'icon': {'prefix...  \n",
       "2  [{'id': 13145, 'name': 'Fast Food Restaurant',...  \n",
       "3  [{'id': 13306, 'name': 'Taco Restaurant', 'ico...  \n",
       "4  [{'id': 13034, 'name': 'Café', 'icon': {'prefi...  "
      ]
     },
     "execution_count": 243,
     "metadata": {},
     "output_type": "execute_result"
    }
   ],
   "source": [
    "# Load into DataFrame\n",
    "fsq_df.head()\n",
    "edit_fsq = fsq_df.rename(columns={'location.address':'address'})\n",
    "subset = edit_fsq[['address', 'name', 'rating', 'categories']]\n",
    "\n",
    "# Display the DataFrame\n",
    "print(subset.shape)\n",
    "subset.head()"
   ]
  },
  {
   "cell_type": "code",
   "execution_count": 293,
   "metadata": {
    "tags": []
   },
   "outputs": [],
   "source": [
    "# Save the DataFrame as a csv\n",
    "subset.to_csv('fsq', sep=',')"
   ]
  },
  {
   "cell_type": "markdown",
   "metadata": {},
   "source": [
    "# Yelp"
   ]
  },
  {
   "cell_type": "markdown",
   "metadata": {},
   "source": [
    "Send a request to Yelp with a small radius (1000m) for all the bike stations in your city of choice. "
   ]
  },
  {
   "cell_type": "code",
   "execution_count": 245,
   "metadata": {
    "tags": []
   },
   "outputs": [],
   "source": [
    "# Load required coordinates\n",
    "csv = pd.read_csv('sobi_bikes', sep= ',')\n",
    "lat = csv['latitude'].values.tolist()\n",
    "long = csv['longitude'].values.tolist()"
   ]
  },
  {
   "cell_type": "code",
   "execution_count": 246,
   "metadata": {},
   "outputs": [
    {
     "data": {
      "text/plain": [
       "143"
      ]
     },
     "execution_count": 246,
     "metadata": {},
     "output_type": "execute_result"
    }
   ],
   "source": [
    "# Create function to input bike station coordinates into Yelp's URL syntax, appending all results to a list for future loop iteration\n",
    "urls = []\n",
    "\n",
    "def json_load(coord1, coord2):\n",
    "    index = 0    \n",
    "    for val in cords:\n",
    "        lat = coord1[index]\n",
    "        long = coord2[index]\n",
    "        url = 'https://api.yelp.com/v3/businesses/search?term=restaurants&latitude=' + str(lat) + '&longitude=' + str(long) + '&radius=1000'\n",
    "        urls.append(url)\n",
    "        index += 1\n",
    "\n",
    "json_load(lat, long)\n",
    "\n",
    "# Verify function output\n",
    "len(urls)"
   ]
  },
  {
   "cell_type": "code",
   "execution_count": 247,
   "metadata": {
    "tags": []
   },
   "outputs": [],
   "source": [
    "# Create empty DataFrame to store JSON response results\n",
    "yelp_df = pd.DataFrame()\n",
    "\n",
    "# Create a function to request and load JSON responses from list of URLs, then normalize response and add entry to DataFrame\n",
    "def get_food(url):\n",
    "    yelp_key = os.environ['YELP_API']\n",
    "    url = url\n",
    "    headers = {\"accept\": \"application/json\", \"Authorization\": 'bearer %s' % yelp_key}\n",
    "    response = requests.get(url, headers=headers)\n",
    "\n",
    "    poi_json = json.loads(response.text)\n",
    "    add_df = pd.json_normalize(poi_json['businesses'])\n",
    "\n",
    "    global yelp_df\n",
    "    yelp_df = pd.concat([yelp_df, add_df], ignore_index=True)\n",
    "    return "
   ]
  },
  {
   "cell_type": "markdown",
   "metadata": {},
   "source": [
    "Parse through the response to get the POI (such as restaurants, bars, etc) details you want (ratings, name, location, etc)"
   ]
  },
  {
   "cell_type": "code",
   "execution_count": 248,
   "metadata": {},
   "outputs": [
    {
     "data": {
      "text/plain": [
       "(2707, 24)"
      ]
     },
     "execution_count": 248,
     "metadata": {},
     "output_type": "execute_result"
    }
   ],
   "source": [
    "# Use loop to iterate through list of URLs, then input the indexed URL into the function above\n",
    "for val in urls:\n",
    "    url = val\n",
    "    get_food(url)\n",
    "\n",
    "# Verify function output\n",
    "yelp_df.shape"
   ]
  },
  {
   "cell_type": "markdown",
   "metadata": {},
   "source": [
    "Put your parsed results into a DataFrame"
   ]
  },
  {
   "cell_type": "code",
   "execution_count": 284,
   "metadata": {},
   "outputs": [
    {
     "name": "stdout",
     "output_type": "stream",
     "text": [
      "(2707, 6)\n"
     ]
    },
    {
     "data": {
      "text/html": [
       "<div>\n",
       "<style scoped>\n",
       "    .dataframe tbody tr th:only-of-type {\n",
       "        vertical-align: middle;\n",
       "    }\n",
       "\n",
       "    .dataframe tbody tr th {\n",
       "        vertical-align: top;\n",
       "    }\n",
       "\n",
       "    .dataframe thead th {\n",
       "        text-align: right;\n",
       "    }\n",
       "</style>\n",
       "<table border=\"1\" class=\"dataframe\">\n",
       "  <thead>\n",
       "    <tr style=\"text-align: right;\">\n",
       "      <th></th>\n",
       "      <th>address</th>\n",
       "      <th>name</th>\n",
       "      <th>rating</th>\n",
       "      <th>categories</th>\n",
       "      <th>latitude</th>\n",
       "      <th>longitude</th>\n",
       "    </tr>\n",
       "  </thead>\n",
       "  <tbody>\n",
       "    <tr>\n",
       "      <th>0</th>\n",
       "      <td>258 Locke Street S</td>\n",
       "      <td>Earth To Table : Bread Bar</td>\n",
       "      <td>4.0</td>\n",
       "      <td>[{'alias': 'pizza', 'title': 'Pizza'}, {'alias...</td>\n",
       "      <td>43.252840</td>\n",
       "      <td>-79.887020</td>\n",
       "    </tr>\n",
       "    <tr>\n",
       "      <th>1</th>\n",
       "      <td>96 George Street</td>\n",
       "      <td>Electric Diner</td>\n",
       "      <td>4.0</td>\n",
       "      <td>[{'alias': 'diners', 'title': 'Diners'}, {'ali...</td>\n",
       "      <td>43.258450</td>\n",
       "      <td>-79.878000</td>\n",
       "    </tr>\n",
       "    <tr>\n",
       "      <th>2</th>\n",
       "      <td>41 King William Street</td>\n",
       "      <td>The Mule</td>\n",
       "      <td>4.0</td>\n",
       "      <td>[{'alias': 'mexican', 'title': 'Mexican'}]</td>\n",
       "      <td>43.257260</td>\n",
       "      <td>-79.867130</td>\n",
       "    </tr>\n",
       "    <tr>\n",
       "      <th>3</th>\n",
       "      <td>31 King William Street</td>\n",
       "      <td>Berkeley North</td>\n",
       "      <td>4.5</td>\n",
       "      <td>[{'alias': 'bars', 'title': 'Bars'}, {'alias':...</td>\n",
       "      <td>43.257405</td>\n",
       "      <td>-79.867715</td>\n",
       "    </tr>\n",
       "    <tr>\n",
       "      <th>4</th>\n",
       "      <td>43 King William Street</td>\n",
       "      <td>Diplomat</td>\n",
       "      <td>4.0</td>\n",
       "      <td>[{'alias': 'venues', 'title': 'Venues &amp; Event ...</td>\n",
       "      <td>43.257244</td>\n",
       "      <td>-79.867082</td>\n",
       "    </tr>\n",
       "  </tbody>\n",
       "</table>\n",
       "</div>"
      ],
      "text/plain": [
       "                  address                        name  rating  \\\n",
       "0      258 Locke Street S  Earth To Table : Bread Bar     4.0   \n",
       "1        96 George Street              Electric Diner     4.0   \n",
       "2  41 King William Street                    The Mule     4.0   \n",
       "3  31 King William Street              Berkeley North     4.5   \n",
       "4  43 King William Street                    Diplomat     4.0   \n",
       "\n",
       "                                          categories   latitude  longitude  \n",
       "0  [{'alias': 'pizza', 'title': 'Pizza'}, {'alias...  43.252840 -79.887020  \n",
       "1  [{'alias': 'diners', 'title': 'Diners'}, {'ali...  43.258450 -79.878000  \n",
       "2         [{'alias': 'mexican', 'title': 'Mexican'}]  43.257260 -79.867130  \n",
       "3  [{'alias': 'bars', 'title': 'Bars'}, {'alias':...  43.257405 -79.867715  \n",
       "4  [{'alias': 'venues', 'title': 'Venues & Event ...  43.257244 -79.867082  "
      ]
     },
     "execution_count": 284,
     "metadata": {},
     "output_type": "execute_result"
    }
   ],
   "source": [
    "# Load into a DataFrame\n",
    "yelp_df.head()\n",
    "edit_yelp = yelp_df.rename(columns={'location.address1':'address', 'coordinates.latitude': 'latitude', 'coordinates.longitude': 'longitude'})\n",
    "subset = edit_yelp[['address', 'name', 'rating', 'categories', 'latitude', 'longitude']]\n",
    "\n",
    "# Display the DataFrame\n",
    "print(subset.shape)\n",
    "subset.head()"
   ]
  },
  {
   "cell_type": "code",
   "execution_count": 292,
   "metadata": {},
   "outputs": [],
   "source": [
    "# Save the DataFrame as a csv\n",
    "subset.to_csv('yelp', sep=',', index=False)"
   ]
  },
  {
   "cell_type": "markdown",
   "metadata": {},
   "source": [
    "# Comparing Results"
   ]
  },
  {
   "cell_type": "markdown",
   "metadata": {},
   "source": [
    "Which API provided you with more complete data? Provide an explanation. "
   ]
  },
  {
   "cell_type": "markdown",
   "metadata": {},
   "source": [
    "After requesting data from each API, I believe the Yelp Fusion API provided me with more complete data. This is because, not only was Yelp's documentation very clear, but also formatting of JSON responses were concise, and effective, as well as having efficient restaurant category naming conventions (Chinese, Korean, Italian, etc..). This was especially helpful, since I was trying to capture as much precise and relevant information about restaurants relative to Hamilton's SoBi bike stations as I could. Additionally, Yelp is a company specializing in points of interests that relate to food and drink, making it an easier choice in terms of results and data."
   ]
  },
  {
   "cell_type": "markdown",
   "metadata": {},
   "source": [
    "Get the top 10 restaurants according to their rating"
   ]
  },
  {
   "cell_type": "code",
   "execution_count": 291,
   "metadata": {},
   "outputs": [
    {
     "data": {
      "text/html": [
       "<div>\n",
       "<style scoped>\n",
       "    .dataframe tbody tr th:only-of-type {\n",
       "        vertical-align: middle;\n",
       "    }\n",
       "\n",
       "    .dataframe tbody tr th {\n",
       "        vertical-align: top;\n",
       "    }\n",
       "\n",
       "    .dataframe thead th {\n",
       "        text-align: right;\n",
       "    }\n",
       "</style>\n",
       "<table border=\"1\" class=\"dataframe\">\n",
       "  <thead>\n",
       "    <tr style=\"text-align: right;\">\n",
       "      <th></th>\n",
       "      <th>name</th>\n",
       "      <th>address</th>\n",
       "      <th>rating</th>\n",
       "      <th>review_count</th>\n",
       "    </tr>\n",
       "  </thead>\n",
       "  <tbody>\n",
       "    <tr>\n",
       "      <th>0</th>\n",
       "      <td>Maipai</td>\n",
       "      <td>631 Barton Street E</td>\n",
       "      <td>5.0</td>\n",
       "      <td>9</td>\n",
       "    </tr>\n",
       "    <tr>\n",
       "      <th>1</th>\n",
       "      <td>Famous Recipe</td>\n",
       "      <td>158 King Street W</td>\n",
       "      <td>5.0</td>\n",
       "      <td>7</td>\n",
       "    </tr>\n",
       "    <tr>\n",
       "      <th>2</th>\n",
       "      <td>Mancala Monk Board Game Cafe</td>\n",
       "      <td>1229 Cannon Street E</td>\n",
       "      <td>5.0</td>\n",
       "      <td>7</td>\n",
       "    </tr>\n",
       "    <tr>\n",
       "      <th>3</th>\n",
       "      <td>193 Bench Kitchen</td>\n",
       "      <td>193 King Street E</td>\n",
       "      <td>5.0</td>\n",
       "      <td>6</td>\n",
       "    </tr>\n",
       "    <tr>\n",
       "      <th>4</th>\n",
       "      <td>Bon Temps</td>\n",
       "      <td>61 Young Street</td>\n",
       "      <td>5.0</td>\n",
       "      <td>6</td>\n",
       "    </tr>\n",
       "    <tr>\n",
       "      <th>5</th>\n",
       "      <td>Chung Chun Rice Hot Dog</td>\n",
       "      <td>1051 King Street W</td>\n",
       "      <td>5.0</td>\n",
       "      <td>6</td>\n",
       "    </tr>\n",
       "    <tr>\n",
       "      <th>6</th>\n",
       "      <td>Tomah</td>\n",
       "      <td>132 Queen Street S</td>\n",
       "      <td>5.0</td>\n",
       "      <td>6</td>\n",
       "    </tr>\n",
       "    <tr>\n",
       "      <th>7</th>\n",
       "      <td>Cafe Baffico</td>\n",
       "      <td>1375 King Street E</td>\n",
       "      <td>5.0</td>\n",
       "      <td>5</td>\n",
       "    </tr>\n",
       "    <tr>\n",
       "      <th>8</th>\n",
       "      <td>Pita Pit</td>\n",
       "      <td>1056 King Street West</td>\n",
       "      <td>5.0</td>\n",
       "      <td>5</td>\n",
       "    </tr>\n",
       "    <tr>\n",
       "      <th>9</th>\n",
       "      <td>Manna Korean Takeout</td>\n",
       "      <td>1050 King Street W</td>\n",
       "      <td>5.0</td>\n",
       "      <td>4</td>\n",
       "    </tr>\n",
       "  </tbody>\n",
       "</table>\n",
       "</div>"
      ],
      "text/plain": [
       "                           name                address  rating  review_count\n",
       "0                        Maipai    631 Barton Street E     5.0             9\n",
       "1                 Famous Recipe      158 King Street W     5.0             7\n",
       "2  Mancala Monk Board Game Cafe   1229 Cannon Street E     5.0             7\n",
       "3             193 Bench Kitchen      193 King Street E     5.0             6\n",
       "4                     Bon Temps        61 Young Street     5.0             6\n",
       "5       Chung Chun Rice Hot Dog     1051 King Street W     5.0             6\n",
       "6                         Tomah     132 Queen Street S     5.0             6\n",
       "7                  Cafe Baffico     1375 King Street E     5.0             5\n",
       "8                      Pita Pit  1056 King Street West     5.0             5\n",
       "9          Manna Korean Takeout     1050 King Street W     5.0             4"
      ]
     },
     "execution_count": 291,
     "metadata": {},
     "output_type": "execute_result"
    }
   ],
   "source": [
    "# It is possible for multiple restaurants to have the maximum rating (5.0), thus we will add another category to sort by review count\n",
    "# Thus, we will consider top restaurants to be those with both a high rating, and then those with more reviews\n",
    "\n",
    "rename = yelp_df.rename(columns={'location.address1':'address'})\n",
    "filter = rename[['name', 'address', 'rating', 'review_count']]\n",
    "\n",
    "groupby = filter.groupby('name').first()\n",
    "top10 = groupby.sort_values(['rating', 'review_count'], ascending=False).reset_index().head(10)\n",
    "\n",
    "top10 "
   ]
  }
 ],
 "metadata": {
  "kernelspec": {
   "display_name": "Python 3 (ipykernel)",
   "language": "python",
   "name": "python3"
  },
  "language_info": {
   "codemirror_mode": {
    "name": "ipython",
    "version": 3
   },
   "file_extension": ".py",
   "mimetype": "text/x-python",
   "name": "python",
   "nbconvert_exporter": "python",
   "pygments_lexer": "ipython3",
   "version": "3.9.12"
  },
  "vscode": {
   "interpreter": {
    "hash": "6c9b5f2fc96e180b8a5a8a696d3f7e4165240dee36d2141e31628b5fa32cbf6e"
   }
  }
 },
 "nbformat": 4,
 "nbformat_minor": 4
}
