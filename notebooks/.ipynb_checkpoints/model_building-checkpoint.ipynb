{
 "cells": [
  {
   "cell_type": "markdown",
   "metadata": {},
   "source": [
    "Build a regression model."
   ]
  },
  {
   "cell_type": "code",
   "execution_count": 1,
   "metadata": {},
   "outputs": [],
   "source": [
    "# Import module\n",
    "import statsmodels.api as sm\n",
    "import pandas as pd"
   ]
  },
  {
   "cell_type": "code",
   "execution_count": 149,
   "metadata": {},
   "outputs": [
    {
     "data": {
      "text/html": [
       "<div>\n",
       "<style scoped>\n",
       "    .dataframe tbody tr th:only-of-type {\n",
       "        vertical-align: middle;\n",
       "    }\n",
       "\n",
       "    .dataframe tbody tr th {\n",
       "        vertical-align: top;\n",
       "    }\n",
       "\n",
       "    .dataframe thead th {\n",
       "        text-align: right;\n",
       "    }\n",
       "</style>\n",
       "<table border=\"1\" class=\"dataframe\">\n",
       "  <thead>\n",
       "    <tr style=\"text-align: right;\">\n",
       "      <th></th>\n",
       "      <th>avg_rating</th>\n",
       "      <th>bikes_available</th>\n",
       "      <th>location</th>\n",
       "    </tr>\n",
       "  </thead>\n",
       "  <tbody>\n",
       "    <tr>\n",
       "      <th>0</th>\n",
       "      <td>4.24</td>\n",
       "      <td>4</td>\n",
       "      <td>-79.82,43.24</td>\n",
       "    </tr>\n",
       "    <tr>\n",
       "      <th>1</th>\n",
       "      <td>4.21</td>\n",
       "      <td>35</td>\n",
       "      <td>-79.87,43.25</td>\n",
       "    </tr>\n",
       "    <tr>\n",
       "      <th>2</th>\n",
       "      <td>4.05</td>\n",
       "      <td>47</td>\n",
       "      <td>-79.91,43.26</td>\n",
       "    </tr>\n",
       "    <tr>\n",
       "      <th>3</th>\n",
       "      <td>3.68</td>\n",
       "      <td>2</td>\n",
       "      <td>-79.85,43.24</td>\n",
       "    </tr>\n",
       "    <tr>\n",
       "      <th>4</th>\n",
       "      <td>2.72</td>\n",
       "      <td>6</td>\n",
       "      <td>-79.95,43.27</td>\n",
       "    </tr>\n",
       "    <tr>\n",
       "      <th>5</th>\n",
       "      <td>3.17</td>\n",
       "      <td>47</td>\n",
       "      <td>-79.93,43.26</td>\n",
       "    </tr>\n",
       "    <tr>\n",
       "      <th>6</th>\n",
       "      <td>4.05</td>\n",
       "      <td>47</td>\n",
       "      <td>-79.91,43.26</td>\n",
       "    </tr>\n",
       "    <tr>\n",
       "      <th>7</th>\n",
       "      <td>4.11</td>\n",
       "      <td>41</td>\n",
       "      <td>-79.88,43.26</td>\n",
       "    </tr>\n",
       "  </tbody>\n",
       "</table>\n",
       "</div>"
      ],
      "text/plain": [
       "   avg_rating  bikes_available      location\n",
       "0        4.24                4  -79.82,43.24\n",
       "1        4.21               35  -79.87,43.25\n",
       "2        4.05               47  -79.91,43.26\n",
       "3        3.68                2  -79.85,43.24\n",
       "4        2.72                6  -79.95,43.27\n",
       "5        3.17               47  -79.93,43.26\n",
       "6        4.05               47  -79.91,43.26\n",
       "7        4.11               41  -79.88,43.26"
      ]
     },
     "execution_count": 149,
     "metadata": {},
     "output_type": "execute_result"
    }
   ],
   "source": [
    "# Build a DataFrame using sample data from the created DataFrames (sobi_hamilton, yelp_df)\n",
    "avg_rating = [4.24, 4.21, 4.05, 3.68, 2.72, 3.17, 4.05, 4.11]\n",
    "bikes_available = [4, 35, 47, 2, 6, 47, 47, 41]\n",
    "location = ['-79.82,43.24', '-79.87,43.25', '-79.91,43.26', '-79.85,43.24', '-79.95,43.27',\n",
    "            '-79.93,43.26', '-79.91,43.26', '-79.88,43.26']\n",
    "\n",
    "df = pd.DataFrame({'avg_rating': avg_rating, \n",
    "                   'bikes_available': bikes_available, \n",
    "                   'location': location})\n",
    "\n",
    "df"
   ]
  },
  {
   "cell_type": "code",
   "execution_count": 150,
   "metadata": {},
   "outputs": [],
   "source": [
    "# Build model\n",
    "X = df['bikes_available']\n",
    "X = sm.add_constant(X) # adding a constant\n",
    "y = df['avg_rating']\n",
    "lin_reg = sm.OLS(y,X)\n"
   ]
  },
  {
   "cell_type": "markdown",
   "metadata": {},
   "source": [
    "Provide model output and an interpretation of the results. "
   ]
  },
  {
   "cell_type": "code",
   "execution_count": 151,
   "metadata": {},
   "outputs": [
    {
     "name": "stdout",
     "output_type": "stream",
     "text": [
      "                            OLS Regression Results                            \n",
      "==============================================================================\n",
      "Dep. Variable:             avg_rating   R-squared:                       0.066\n",
      "Model:                            OLS   Adj. R-squared:                 -0.089\n",
      "Method:                 Least Squares   F-statistic:                    0.4272\n",
      "Date:                Mon, 07 Nov 2022   Prob (F-statistic):              0.538\n",
      "Time:                        15:45:00   Log-Likelihood:                -5.8333\n",
      "No. Observations:                   8   AIC:                             15.67\n",
      "Df Residuals:                       6   BIC:                             15.83\n",
      "Df Model:                           1                                         \n",
      "Covariance Type:            nonrobust                                         \n",
      "===================================================================================\n",
      "                      coef    std err          t      P>|t|      [0.025      0.975]\n",
      "-----------------------------------------------------------------------------------\n",
      "const               3.5820      0.364      9.837      0.000       2.691       4.473\n",
      "bikes_available     0.0069      0.011      0.654      0.538      -0.019       0.033\n",
      "==============================================================================\n",
      "Omnibus:                        1.767   Durbin-Watson:                   0.948\n",
      "Prob(Omnibus):                  0.413   Jarque-Bera (JB):                1.029\n",
      "Skew:                          -0.796   Prob(JB):                        0.598\n",
      "Kurtosis:                       2.255   Cond. No.                         61.6\n",
      "==============================================================================\n",
      "\n",
      "Notes:\n",
      "[1] Standard Errors assume that the covariance matrix of the errors is correctly specified.\n"
     ]
    },
    {
     "name": "stderr",
     "output_type": "stream",
     "text": [
      "C:\\Users\\joshu\\anaconda3\\lib\\site-packages\\scipy\\stats\\stats.py:1541: UserWarning: kurtosistest only valid for n>=20 ... continuing anyway, n=8\n",
      "  warnings.warn(\"kurtosistest only valid for n>=20 ... continuing \"\n"
     ]
    }
   ],
   "source": [
    "# Model output\n",
    "model = lin_reg.fit()\n",
    "print_model = model.summary()\n",
    "print(print_model)"
   ]
  }
 ],
 "metadata": {
  "kernelspec": {
   "display_name": "Python 3 (ipykernel)",
   "language": "python",
   "name": "python3"
  },
  "language_info": {
   "codemirror_mode": {
    "name": "ipython",
    "version": 3
   },
   "file_extension": ".py",
   "mimetype": "text/x-python",
   "name": "python",
   "nbconvert_exporter": "python",
   "pygments_lexer": "ipython3",
   "version": "3.9.12"
  }
 },
 "nbformat": 4,
 "nbformat_minor": 4
}
