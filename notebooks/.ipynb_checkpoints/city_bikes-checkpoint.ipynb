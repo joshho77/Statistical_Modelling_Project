{
 "cells": [
  {
   "cell_type": "markdown",
   "metadata": {},
   "source": [
    "# CityBikes"
   ]
  },
  {
   "cell_type": "markdown",
   "metadata": {},
   "source": [
    "Send a request to CityBikes for the city of your choice. "
   ]
  },
  {
   "cell_type": "code",
   "execution_count": 1,
   "metadata": {},
   "outputs": [],
   "source": [
    "# Import modules\n",
    "import pandas as pd\n",
    "import json\n",
    "import requests\n"
   ]
  },
  {
   "cell_type": "code",
   "execution_count": 5,
   "metadata": {},
   "outputs": [],
   "source": [
    "# Get network data for city of Hamilton, Ontario\n",
    "network_id = 'sobi-hamilton'\n",
    "network_json = \"http://api.citybik.es/v2/networks/\" + network_id"
   ]
  },
  {
   "cell_type": "markdown",
   "metadata": {},
   "source": [
    "Parse through the response to get the details you want for the bike stations in that city (latitude, longitude, number of bikes). "
   ]
  },
  {
   "cell_type": "code",
   "execution_count": 4,
   "metadata": {},
   "outputs": [
    {
     "name": "stdout",
     "output_type": "stream",
     "text": [
      "143\n",
      "143\n",
      "143\n",
      "143\n"
     ]
    },
    {
     "data": {
      "text/plain": [
       "True"
      ]
     },
     "execution_count": 4,
     "metadata": {},
     "output_type": "execute_result"
    }
   ],
   "source": [
    "# Read .json data format\n",
    "read_json = pd.read_json(network_json)\n",
    "sobi = read_json['network'][6]\n",
    "\n",
    "# Create lists for each category\n",
    "address = []\n",
    "free_bikes = []\n",
    "longitude = []\n",
    "latitude = []\n",
    "\n",
    "# Use loops to parse data and store selected information\n",
    "for item in sobi:\n",
    "    address.append(item['extra']['address'])\n",
    "    free_bikes.append(item['free_bikes'])\n",
    "    longitude.append(item['longitude'])\n",
    "    latitude.append(item['latitude'])\n",
    "\n",
    "# Validate lists are equal with correct information\n",
    "print(len(address))\n",
    "print(len(free_bikes))\n",
    "print(len(longitude))\n",
    "print(len(latitude))\n",
    "\n",
    "len(address)==len(free_bikes)==len(longitude)==len(latitude)"
   ]
  },
  {
   "cell_type": "markdown",
   "metadata": {},
   "source": [
    "Put your parsed results into a DataFrame."
   ]
  },
  {
   "cell_type": "code",
   "execution_count": 6,
   "metadata": {
    "tags": []
   },
   "outputs": [
    {
     "data": {
      "text/html": [
       "<div>\n",
       "<style scoped>\n",
       "    .dataframe tbody tr th:only-of-type {\n",
       "        vertical-align: middle;\n",
       "    }\n",
       "\n",
       "    .dataframe tbody tr th {\n",
       "        vertical-align: top;\n",
       "    }\n",
       "\n",
       "    .dataframe thead th {\n",
       "        text-align: right;\n",
       "    }\n",
       "</style>\n",
       "<table border=\"1\" class=\"dataframe\">\n",
       "  <thead>\n",
       "    <tr style=\"text-align: right;\">\n",
       "      <th></th>\n",
       "      <th>address</th>\n",
       "      <th>free_bikes</th>\n",
       "      <th>longitude</th>\n",
       "      <th>latitude</th>\n",
       "      <th>coordinates</th>\n",
       "    </tr>\n",
       "  </thead>\n",
       "  <tbody>\n",
       "    <tr>\n",
       "      <th>0</th>\n",
       "      <td>15 Hess Street North, Hamilton</td>\n",
       "      <td>4</td>\n",
       "      <td>-79.877212</td>\n",
       "      <td>43.259126</td>\n",
       "      <td>43.259125842121065%2C-79.87721174955368</td>\n",
       "    </tr>\n",
       "    <tr>\n",
       "      <th>1</th>\n",
       "      <td>Harbour Front Drive, North End, Hamilton, Ontario</td>\n",
       "      <td>13</td>\n",
       "      <td>-79.871327</td>\n",
       "      <td>43.269288</td>\n",
       "      <td>43.269288276229105%2C-79.87132698297499</td>\n",
       "    </tr>\n",
       "    <tr>\n",
       "      <th>2</th>\n",
       "      <td>325 Bay Street North, Hamilton</td>\n",
       "      <td>0</td>\n",
       "      <td>-79.867923</td>\n",
       "      <td>43.267859</td>\n",
       "      <td>43.26785864558976%2C-79.8679232597351</td>\n",
       "    </tr>\n",
       "    <tr>\n",
       "      <th>3</th>\n",
       "      <td>177, Bay Street North, Hess Village, Hamilton,...</td>\n",
       "      <td>7</td>\n",
       "      <td>-79.871803</td>\n",
       "      <td>43.263198</td>\n",
       "      <td>43.263198441574474%2C-79.87180307507515</td>\n",
       "    </tr>\n",
       "    <tr>\n",
       "      <th>4</th>\n",
       "      <td>58 Bay Street South, Hamilton</td>\n",
       "      <td>10</td>\n",
       "      <td>-79.874499</td>\n",
       "      <td>43.256132</td>\n",
       "      <td>43.2561324863605%2C-79.8744987564414</td>\n",
       "    </tr>\n",
       "  </tbody>\n",
       "</table>\n",
       "</div>"
      ],
      "text/plain": [
       "                                             address  free_bikes  longitude  \\\n",
       "0                     15 Hess Street North, Hamilton           4 -79.877212   \n",
       "1  Harbour Front Drive, North End, Hamilton, Ontario          13 -79.871327   \n",
       "2                     325 Bay Street North, Hamilton           0 -79.867923   \n",
       "3  177, Bay Street North, Hess Village, Hamilton,...           7 -79.871803   \n",
       "4                      58 Bay Street South, Hamilton          10 -79.874499   \n",
       "\n",
       "    latitude                              coordinates  \n",
       "0  43.259126  43.259125842121065%2C-79.87721174955368  \n",
       "1  43.269288  43.269288276229105%2C-79.87132698297499  \n",
       "2  43.267859    43.26785864558976%2C-79.8679232597351  \n",
       "3  43.263198  43.263198441574474%2C-79.87180307507515  \n",
       "4  43.256132     43.2561324863605%2C-79.8744987564414  "
      ]
     },
     "execution_count": 6,
     "metadata": {},
     "output_type": "execute_result"
    }
   ],
   "source": [
    "# Load into DataFrame\n",
    "df = pd.DataFrame(\n",
    "    {'address': address,\n",
    "    'free_bikes': free_bikes,\n",
    "    'longitude': longitude,\n",
    "    'latitude': latitude}\n",
    "    )\n",
    "\n",
    "df['coordinates'] = df['latitude'].astype(str) + '%2C' + df['longitude'].astype(str)\n",
    "\n",
    "df.head()"
   ]
  },
  {
   "cell_type": "code",
   "execution_count": 7,
   "metadata": {},
   "outputs": [],
   "source": [
    "# Print DataFrame to csv\n",
    "df.to_csv('sobi_bikes', index=False, sep=',')"
   ]
  }
 ],
 "metadata": {
  "kernelspec": {
   "display_name": "Python 3 (ipykernel)",
   "language": "python",
   "name": "python3"
  },
  "language_info": {
   "codemirror_mode": {
    "name": "ipython",
    "version": 3
   },
   "file_extension": ".py",
   "mimetype": "text/x-python",
   "name": "python",
   "nbconvert_exporter": "python",
   "pygments_lexer": "ipython3",
   "version": "3.9.12"
  },
  "vscode": {
   "interpreter": {
    "hash": "cab4d223de3b4302c2a639a020fd916bf60f907757187d366ed338efdc50eea1"
   }
  }
 },
 "nbformat": 4,
 "nbformat_minor": 4
}
